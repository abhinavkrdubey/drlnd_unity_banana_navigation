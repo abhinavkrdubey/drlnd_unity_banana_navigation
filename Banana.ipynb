{
 "cells": [
  {
   "cell_type": "markdown",
   "metadata": {},
   "source": [
    "# Unity Banana Navigation"
   ]
  },
  {
   "cell_type": "markdown",
   "metadata": {},
   "source": [
    "## Importing Necessary Packages"
   ]
  },
  {
   "cell_type": "code",
   "execution_count": 1,
   "metadata": {},
   "outputs": [],
   "source": [
    "import random\n",
    "import torch\n",
    "import numpy as np\n",
    "from collections import deque\n",
    "import matplotlib.pyplot as plt\n",
    "from unityagents import UnityEnvironment\n",
    "from dqn import Agent"
   ]
  },
  {
   "cell_type": "markdown",
   "metadata": {},
   "source": [
    "## Create Unity Environment"
   ]
  },
  {
   "cell_type": "markdown",
   "metadata": {},
   "source": [
    "TheUnity will open in a new window and you will be able to see the agent running"
   ]
  },
  {
   "cell_type": "code",
   "execution_count": 2,
   "metadata": {},
   "outputs": [
    {
     "name": "stderr",
     "output_type": "stream",
     "text": [
      "INFO:unityagents:\n",
      "'Academy' started successfully!\n",
      "Unity Academy name: Academy\n",
      "        Number of Brains: 1\n",
      "        Number of External Brains : 1\n",
      "        Lesson number : 0\n",
      "        Reset Parameters :\n",
      "\t\t\n",
      "Unity brain name: BananaBrain\n",
      "        Number of Visual Observations (per agent): 0\n",
      "        Vector Observation space type: continuous\n",
      "        Vector Observation space size (per agent): 37\n",
      "        Number of stacked Vector Observation: 1\n",
      "        Vector Action space type: discrete\n",
      "        Vector Action space size (per agent): 4\n",
      "        Vector Action descriptions: , , , \n"
     ]
    }
   ],
   "source": [
    "env = UnityEnvironment(file_name=\"Banana\")\n",
    "brain_name = env.brain_names[0]\n",
    "brain = env.brains[brain_name]\n",
    "env_info = env.reset(train_mode = True)[brain_name]\n",
    "action_size = brain.vector_action_space_size\n",
    "state = env_info.vector_observations[0]\n",
    "state_size = len(state)"
   ]
  },
  {
   "cell_type": "markdown",
   "metadata": {},
   "source": [
    "## DQN Function"
   ]
  },
  {
   "cell_type": "markdown",
   "metadata": {},
   "source": [
    "This function will run or train the agent. If the agent will reach average score of 13.0 over 100 consecutive episodes it will save the learned weights to the checkpoint_dqn.pth file. You can read this weights while initializing new agent to run trained agent"
   ]
  },
  {
   "cell_type": "code",
   "execution_count": 3,
   "metadata": {},
   "outputs": [],
   "source": [
    "def dqn(agent, n_episodes=4000, max_t = 1000, eps_start = 1.0, eps_end = 0.01, eps_decay = 0.999, train = True):\n",
    "    \"\"\"Deep Q-Learning.\n",
    "        Arguments:\n",
    "            n_episodes(int): maximum number of training episodes\n",
    "            max_t(int): maximum number of timesteps per episode\n",
    "            eps_start(float): starting value of epsilon, for epsilon-greedy action selection\n",
    "            eps_end(float): minimum value of epsilon\n",
    "            train(bool): fla deciding if the agent will train or just play through the episode\n",
    "    \"\"\"\n",
    "    scores = [] #list containing scores from each episode\n",
    "    scores_window = deque(maxlen = 100) #last 100 scores\n",
    "    eps = eps_start #initialize epsilon\n",
    "    for i_episode in range(1, n_episodes+1):\n",
    "        env_info = env.reset(train_mode = train)[brain_name]\n",
    "        state = env_info.vector_observations[0]\n",
    "        score = 0\n",
    "        for t in range(max_t):\n",
    "            action = agent.act(state, eps if train else 0.0)\n",
    "            env_info = env.step(np.int32(action))[brain_name]\n",
    "            next_state = env_info.vector_observations[0]\n",
    "            reward = env_info.rewards[0]\n",
    "            done = env_info.local_done[0]\n",
    "            if train:\n",
    "                agent.step(state, action, reward, next_state, done)\n",
    "            score += reward #update the score\n",
    "            state = next_state #roll over the state to next time step\n",
    "            if done:\n",
    "                break\n",
    "        scores_window.append(score) #save most recent score\n",
    "        scores.append(score) #save most recent score\n",
    "        eps = max(eps_end, eps_decay*eps) #decrease epsilon\n",
    "        print('\\rEpisode {}\\tAverage Score: {:.2f}'.format(i_episode, np.mean(scores_window)), end=\"\")\n",
    "        if i_episode % 100 == 0:\n",
    "            print('\\rEpisode {}\\tAverage Score: {:.2f}'.format(i_episode, np.mean(scores_window)))\n",
    "        if np.mean(scores_window) >= 13.0 and train:\n",
    "            print('\\Environment solved in {:d} episodes!\\tAverage Score: {:.2f}'.format(i_episode-100, np.mean(scores_window)))\n",
    "            torch.save(agent.qnetwork_local.state_dict(),'checkpoint_dqn.pth')\n",
    "            break\n",
    "    return scores"
   ]
  },
  {
   "cell_type": "markdown",
   "metadata": {},
   "source": [
    "## Train the agent"
   ]
  },
  {
   "cell_type": "code",
   "execution_count": 4,
   "metadata": {},
   "outputs": [
    {
     "name": "stdout",
     "output_type": "stream",
     "text": [
      "Episode 100\tAverage Score: 0.33\n",
      "Episode 200\tAverage Score: 0.92\n",
      "Episode 300\tAverage Score: 1.63\n",
      "Episode 400\tAverage Score: 2.27\n",
      "Episode 500\tAverage Score: 3.22\n",
      "Episode 600\tAverage Score: 4.37\n",
      "Episode 700\tAverage Score: 5.34\n",
      "Episode 800\tAverage Score: 6.44\n",
      "Episode 900\tAverage Score: 6.81\n",
      "Episode 1000\tAverage Score: 7.87\n",
      "Episode 1100\tAverage Score: 8.06\n",
      "Episode 1200\tAverage Score: 8.28\n",
      "Episode 1300\tAverage Score: 9.60\n",
      "Episode 1400\tAverage Score: 10.64\n",
      "Episode 1500\tAverage Score: 10.78\n",
      "Episode 1600\tAverage Score: 10.78\n",
      "Episode 1700\tAverage Score: 10.68\n",
      "Episode 1800\tAverage Score: 11.74\n",
      "Episode 1900\tAverage Score: 11.60\n",
      "Episode 2000\tAverage Score: 11.88\n",
      "Episode 2100\tAverage Score: 12.44\n",
      "Episode 2165\tAverage Score: 13.00\\Environment solved in 2065 episodes!\tAverage Score: 13.00\n"
     ]
    },
    {
     "data": {
      "image/png": "[encoded data removed]",
      "text/plain": [
       "<Figure size 432x288 with 1 Axes>"
      ]
     },
     "metadata": {
      "needs_background": "light"
     },
     "output_type": "display_data"
    }
   ],
   "source": [
    "agent = Agent(state_size = state_size, action_size = action_size, seed = 0)\n",
    "scores = dqn(agent)\n",
    "\n",
    "#Plotting the scores\n",
    "fig = plt.figure()\n",
    "ax = fig.add_subplot(111)\n",
    "plt.plot(np.arange(len(scores)), scores)\n",
    "plt.ylabel('Score')\n",
    "plt.xlabel('Episode #')\n",
    "plt.show()"
   ]
  },
  {
   "cell_type": "markdown",
   "metadata": {},
   "source": [
    "## Run trained agent"
   ]
  },
  {
   "cell_type": "code",
   "execution_count": 5,
   "metadata": {},
   "outputs": [
    {
     "name": "stdout",
     "output_type": "stream",
     "text": [
      "Episode 100\tAverage Score: 7.44\n"
     ]
    }
   ],
   "source": [
    "agent = Agent(state_size = state_size, action_size = action_size, seed = 0, filename = 'checkpoint_dqn.pth')\n",
    "scores = dqn(agent, n_episodes = 100, train = False)"
   ]
  },
  {
   "cell_type": "markdown",
   "metadata": {},
   "source": [
    "## Close the environment"
   ]
  },
  {
   "cell_type": "code",
   "execution_count": 6,
   "metadata": {},
   "outputs": [],
   "source": [
    "env.close()"
   ]
  }
 ],
 "metadata": {
  "kernelspec": {
   "display_name": "drlnd",
   "language": "python",
   "name": "drlnd"
  },
  "language_info": {
   "codemirror_mode": {
    "name": "ipython",
    "version": 3
   },
   "file_extension": ".py",
   "mimetype": "text/x-python",
   "name": "python",
   "nbconvert_exporter": "python",
   "pygments_lexer": "ipython3",
   "version": "3.6.10"
  }
 },
 "nbformat": 4,
 "nbformat_minor": 4
}
